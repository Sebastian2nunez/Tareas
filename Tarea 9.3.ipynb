{
 "cells": [
  {
   "cell_type": "markdown",
   "metadata": {},
   "source": [
    "Tarea 9.3"
   ]
  },
  {
   "cell_type": "markdown",
   "metadata": {},
   "source": [
    "Dejando la ecuacion como conica se tiene:\n",
    "$\\frac{x^2}{9}+\\frac{y^2}{4}$\n",
    "Asi a=3 b=2\n",
    "\n",
    "Es posible parametrizar con x=u+acos($\\theta$) y=v+bsen($\\theta$) con el punto (u,v) el origen, asi u=0 y v=0"
   ]
  },
  {
   "cell_type": "code",
   "execution_count": 1,
   "metadata": {},
   "outputs": [],
   "source": [
    "import numpy as np\n",
    "import matplotlib.pyplot as plt\n",
    "#Se definen x e y\n",
    "𝜃=np.linspace(0, 2*np.pi, 100)\n",
    "a=3\n",
    "b=2\n",
    "x=a*np.cos(𝜃)\n",
    "y=b*np.sin(𝜃)\n"
   ]
  },
  {
   "cell_type": "code",
   "execution_count": 9,
   "metadata": {},
   "outputs": [
    {
     "data": {
      "text/plain": [
       "16.367353682862266"
      ]
     },
     "execution_count": 9,
     "metadata": {},
     "output_type": "execute_result"
    }
   ],
   "source": [
    "#Integración de Romberg\n",
    "def romberg(f, a, b, n):\n",
    "    \n",
    "    R0 = np.zeros(n)\n",
    "    R1 = np.zeros(n)\n",
    "    \n",
    "    h = (b - a)\n",
    "    R0[0] = (h/2)*(f(b) + f(a))\n",
    "    for i in range(1, n):\n",
    "        s = sum(f(a + (k - 0.5)*h) for k in range(1, int(2**(i-1)) + 1))\n",
    "        R1[0] = (1/2)*(R0[0] + h*s) # aproximación trapezoidal papra este h\n",
    "        for j in range(1, i+1):\n",
    "            R1[j] = R1[j-1] + (R1[j-1] - R0[j-1])/(4**(j) - 1)\n",
    "        h = h/2\n",
    "        for j in range(i+1):\n",
    "            R0[j] = R1[j]\n",
    "            \n",
    "    return R0[-1]\n",
    "\n",
    "def f(𝜃):\n",
    "    x=a*np.cos(𝜃)\n",
    "    y=b*np.sin(𝜃)\n",
    "    return 3*(x+y)\n",
    "\n",
    "romberg(f,-2, 2, 20)\n"
   ]
  },
  {
   "cell_type": "markdown",
   "metadata": {},
   "source": [
    "# Calificacion: 6.5\n",
    "\n",
    "Se bien este es un valor cercano al valor real de la integral, se pide explicitamente en el enunciando de la tarea calcularlo con una presicion de $10^-6$"
   ]
  }
 ],
 "metadata": {
  "kernelspec": {
   "display_name": "Python 3",
   "language": "python",
   "name": "python3"
  },
  "language_info": {
   "codemirror_mode": {
    "name": "ipython",
    "version": 3
   },
   "file_extension": ".py",
   "mimetype": "text/x-python",
   "name": "python",
   "nbconvert_exporter": "python",
   "pygments_lexer": "ipython3",
   "version": "3.8.3"
  },
  "toc": {
   "base_numbering": 1,
   "nav_menu": {},
   "number_sections": true,
   "sideBar": true,
   "skip_h1_title": false,
   "title_cell": "Table of Contents",
   "title_sidebar": "Contents",
   "toc_cell": false,
   "toc_position": {},
   "toc_section_display": true,
   "toc_window_display": false
  }
 },
 "nbformat": 4,
 "nbformat_minor": 5
}
