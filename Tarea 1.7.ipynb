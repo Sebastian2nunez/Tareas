{
 "cells": [
  {
   "cell_type": "markdown",
   "id": "25633567",
   "metadata": {},
   "source": [
    "## Tarea 1.7"
   ]
  },
  {
   "cell_type": "code",
   "execution_count": 27,
   "id": "bb83f060",
   "metadata": {},
   "outputs": [
    {
     "name": "stdout",
     "output_type": "stream",
     "text": [
      "1\n",
      "11\n",
      "111\n",
      "1111\n",
      "11111\n",
      "111111\n",
      "1111111\n",
      "11111111\n",
      "111111111\n",
      "1111111111\n"
     ]
    }
   ],
   "source": [
    "#Con el fin de generar filas se utiliza 'for i in range(n)' con n siendo el numero de filas.\n",
    "for i in range(10):   \n",
    "    print((i+1)*\"1\") #Print (x*\"1\") imprime \"1\" x veces en una fila. En este caso se usa i+1, ya que i va desde 0 a 9"
   ]
  },
  {
   "cell_type": "markdown",
   "id": "a84528c3",
   "metadata": {},
   "source": [
    "# Calificación: 7.0"
   ]
  }
 ],
 "metadata": {
  "kernelspec": {
   "display_name": "Python 3 (ipykernel)",
   "language": "python",
   "name": "python3"
  },
  "language_info": {
   "codemirror_mode": {
    "name": "ipython",
    "version": 3
   },
   "file_extension": ".py",
   "mimetype": "text/x-python",
   "name": "python",
   "nbconvert_exporter": "python",
   "pygments_lexer": "ipython3",
   "version": "3.9.12"
  }
 },
 "nbformat": 4,
 "nbformat_minor": 5
}
