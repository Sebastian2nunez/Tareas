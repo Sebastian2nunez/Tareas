{
 "cells": [
  {
   "cell_type": "markdown",
   "id": "4868ae23",
   "metadata": {},
   "source": [
    "# Tarea 4.7"
   ]
  },
  {
   "cell_type": "code",
   "execution_count": 14,
   "id": "00a12207",
   "metadata": {},
   "outputs": [],
   "source": [
    "#Importamos librerias\n",
    "import numpy as np\n",
    "import h5py"
   ]
  },
  {
   "cell_type": "code",
   "execution_count": 13,
   "id": "034e5e03",
   "metadata": {},
   "outputs": [],
   "source": [
    "#Definimos la funcion para un dado de n caras\n",
    "def dado(n):\n",
    "    Cara=np.random.randint(1,n+1) #Con esto se toma valores desde 1 hasta n+1 que varia solo con numeros enteros\n",
    "    return Cara\n",
    "\n",
    "#Se crea una lista para conocer los datos\n",
    "lista=[]\n",
    "\n",
    "#Se añaden 1000 datos a la lista sobre el dado\n",
    "for i in range(1000):\n",
    "    lista.append(dado(6))"
   ]
  },
  {
   "cell_type": "code",
   "execution_count": 16,
   "id": "b8e604c2",
   "metadata": {
    "scrolled": false
   },
   "outputs": [],
   "source": [
    "#Se guarda el archivo\n",
    "with h5py.File('1000 repeticiones', 'w') as f:  \n",
    "    dset = f.create_dataset(\"dado\", data = lista) "
   ]
  }
 ],
 "metadata": {
  "kernelspec": {
   "display_name": "Python 3 (ipykernel)",
   "language": "python",
   "name": "python3"
  },
  "language_info": {
   "codemirror_mode": {
    "name": "ipython",
    "version": 3
   },
   "file_extension": ".py",
   "mimetype": "text/x-python",
   "name": "python",
   "nbconvert_exporter": "python",
   "pygments_lexer": "ipython3",
   "version": "3.10.4"
  }
 },
 "nbformat": 4,
 "nbformat_minor": 5
}
