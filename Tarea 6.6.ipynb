{
 "cells": [
  {
   "cell_type": "markdown",
   "id": "bc8f4fca",
   "metadata": {},
   "source": [
    "Tarea 6.6"
   ]
  },
  {
   "cell_type": "code",
   "execution_count": 2,
   "id": "3cf3e8d7",
   "metadata": {},
   "outputs": [],
   "source": [
    "#Definimos la biseccion\n",
    "\n",
    "def biseccion(f, a, b, epsilon, N=1000000):\n",
    "    for i in range(N):\n",
    "        p = a + (b - a)/2\n",
    "        if abs(f(p)) < epsilon:\n",
    "            return 2*(p-a)/(2**i), i, epsilon\n",
    "        elif f(p)*f(a) > 0:\n",
    "            a = p\n",
    "        else:\n",
    "            b = p\n",
    "    print(\"No se encontró el cero después de\", N, \"iteraciones.\")\n",
    "    \n",
    "    "
   ]
  },
  {
   "cell_type": "code",
   "execution_count": 3,
   "id": "9aacb889",
   "metadata": {},
   "outputs": [],
   "source": [
    "#Definimos la funcion\n",
    "import numpy as np\n",
    "def func(x):\n",
    "    return 1 - np.cos(x) - np.sin(x)/x"
   ]
  },
  {
   "cell_type": "code",
   "execution_count": 4,
   "id": "e2f1e096",
   "metadata": {},
   "outputs": [
    {
     "data": {
      "image/png": "[encoded data removed]",
      "text/plain": [
       "<Figure size 432x288 with 1 Axes>"
      ]
     },
     "metadata": {
      "needs_background": "light"
     },
     "output_type": "display_data"
    }
   ],
   "source": [
    "#Graficamos para poder elegir f(a) y f(b)\n",
    "import matplotlib.pyplot as plt\n",
    "x = np.linspace(-6.5, -6, 100)\n",
    "plt.plot(x, func(x))\n",
    "plt.show()"
   ]
  },
  {
   "cell_type": "markdown",
   "id": "e7ea46e8",
   "metadata": {},
   "source": [
    "Se observa que en -6.5 el valor es menor a 0 y en -6 es mayor a 0"
   ]
  },
  {
   "cell_type": "code",
   "execution_count": 5,
   "id": "8d340713",
   "metadata": {},
   "outputs": [
    {
     "data": {
      "text/plain": [
       "-0.00968300851076434"
      ]
     },
     "execution_count": 5,
     "metadata": {},
     "output_type": "execute_result"
    }
   ],
   "source": [
    "func(-6.5)"
   ]
  },
  {
   "cell_type": "code",
   "execution_count": 6,
   "id": "ccd3d18c",
   "metadata": {},
   "outputs": [
    {
     "data": {
      "text/plain": [
       "0.08639896304945502"
      ]
     },
     "execution_count": 6,
     "metadata": {},
     "output_type": "execute_result"
    }
   ],
   "source": [
    "func(-6)"
   ]
  },
  {
   "cell_type": "code",
   "execution_count": 14,
   "id": "d49b50dd",
   "metadata": {},
   "outputs": [],
   "source": [
    "#Numero de iteraciones\n",
    "iteraciones1= biseccion(func,-6.5,-6, 1e-1)[1]\n",
    "iteraciones2= biseccion(func,-6.5,-6, 1e-3)[1]\n",
    "iteraciones3= biseccion(func,-6.5,-6, 1e-5)[1]\n",
    "iteraciones4= biseccion(func,-6.5,-6, 1e-7)[1]\n",
    "\n",
    "#Error relativo\n",
    "error1= biseccion(func,-6.5,-6, 1e-1)[2]\n",
    "error2= biseccion(func,-6.5,-6, 1e-3)[2]\n",
    "error3= biseccion(func,-6.5,-6, 1e-5)[2]\n",
    "error4= biseccion(func,-6.5,-6, 1e-7)[2]\n",
    "\n",
    "#Cota\n",
    "cota1= biseccion(func,-6.5,-6, 1e-1)[0]\n",
    "cota2= biseccion(func,-6.5,-6, 1e-3)[0]\n",
    "cota3= biseccion(func,-6.5,-6, 1e-5)[0]\n",
    "cota4= biseccion(func,-6.5,-6, 1e-7)[0]\n"
   ]
  },
  {
   "cell_type": "code",
   "execution_count": 15,
   "id": "94b8f382",
   "metadata": {},
   "outputs": [
    {
     "data": {
      "image/png": "[encoded data removed]",
      "text/plain": [
       "<Figure size 432x288 with 1 Axes>"
      ]
     },
     "metadata": {
      "needs_background": "light"
     },
     "output_type": "display_data"
    }
   ],
   "source": [
    "#Graficando para el error\n",
    "plt.loglog(iteraciones1,error1, color='teal', marker='^')\n",
    "plt.loglog(iteraciones2,error2, color='teal', marker='^')\n",
    "plt.loglog(iteraciones3,error3, color='teal', marker='^')\n",
    "plt.loglog(iteraciones4,error4, color='teal', marker='^')\n",
    "#Graficando para la cota\n",
    "plt.loglog(iteraciones1,cota1, color='red', marker='^')\n",
    "plt.loglog(iteraciones2,cota2, color='red', marker='^')\n",
    "plt.loglog(iteraciones3,cota3, color='red', marker='^')\n",
    "plt.loglog(iteraciones4,cota4, color='red', marker='^')\n",
    "plt.xlabel('Iteraciones')\n",
    "plt.ylabel('Errores relativos')\n",
    "plt.show()"
   ]
  },
  {
   "cell_type": "markdown",
   "id": "4f5455b4",
   "metadata": {},
   "source": [
    "Se observa la diferencia entre el error relativo y la cota, ya que el error relativo es mas alto con $10^{-7}$ para mayor de 10 pasos, mientras que para mayor de 10 pasos en la cota es de $10^{-10}$."
   ]
  },
  {
   "cell_type": "markdown",
   "id": "7dbc27b5",
   "metadata": {},
   "source": [
    "# Calificación: 6.5"
   ]
  },
  {
   "cell_type": "markdown",
   "id": "1dcaa03f",
   "metadata": {},
   "source": [
    "Es extraño que la cota sea mayor que lo obtenido. Esto indica algún problema ya que la cota es precisamente eso: una cota al error máximo obtenido para $i$ iteraciones. \n",
    "\n",
    "Lo que ocurre es que la cota es para el error sobre el punto donde la función es cero, $p$. Es decir, es una cota para $|p_{estimado} - p|$. Tu en cambio la estás comparando con $f(p)$ que no tiene que ver con esta cota."
   ]
  },
  {
   "cell_type": "markdown",
   "id": "de895653",
   "metadata": {},
   "source": []
  }
 ],
 "metadata": {
  "kernelspec": {
   "display_name": "Python 3",
   "language": "python",
   "name": "python3"
  },
  "language_info": {
   "codemirror_mode": {
    "name": "ipython",
    "version": 3
   },
   "file_extension": ".py",
   "mimetype": "text/x-python",
   "name": "python",
   "nbconvert_exporter": "python",
   "pygments_lexer": "ipython3",
   "version": "3.10.6 (main, Nov  2 2022, 18:53:38) [GCC 11.3.0]"
  },
  "vscode": {
   "interpreter": {
    "hash": "916dbcbb3f70747c44a77c7bcd40155683ae19c65e1c03b4aa3499c5328201f1"
   }
  }
 },
 "nbformat": 4,
 "nbformat_minor": 5
}
