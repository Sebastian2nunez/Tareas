{
 "cells": [
  {
   "cell_type": "markdown",
   "id": "c362e56a",
   "metadata": {},
   "source": [
    "Tarea 10.3\n",
    "\n",
    "Use un método numérico para calcular la siguiente integral\n",
    "\n",
    "$$\n",
    "\\int_0^\\infty dx\\,\\frac{\\log(x)}{\\sqrt{x + 5x^3}}\n",
    "$$\n",
    "\n",
    "**Pista:** Al aislar la divergencia, escriba $\\log(x)f(x)/x^p$, luego expanda en Taylor $f(x)$ y las integrales resultantes con integrandos del tipo $x^n \\log(x)$ tienen solución analítica."
   ]
  },
  {
   "cell_type": "markdown",
   "id": "348de0f6",
   "metadata": {},
   "source": [
    "El polinomio de taylor es con a=0:\n",
    "    \n",
    "$$\n",
    " P_m=\\frac{a^{-n}(-1)^{1+n}(-1+n)!}{log(10)}*\\frac{(x-a)^n}{n!}  = \\frac{(-1)^{n+1}(n-1)!}{log(10)*n!}\n",
    "$$\n"
   ]
  },
  {
   "cell_type": "code",
   "execution_count": 10,
   "id": "c926c493",
   "metadata": {},
   "outputs": [
    {
     "ename": "ValueError",
     "evalue": "factorial() not defined for negative values",
     "output_type": "error",
     "traceback": [
      "\u001b[1;31m---------------------------------------------------------------------------\u001b[0m",
      "\u001b[1;31mValueError\u001b[0m                                Traceback (most recent call last)",
      "Input \u001b[1;32mIn [10]\u001b[0m, in \u001b[0;36m<cell line: 22>\u001b[1;34m()\u001b[0m\n\u001b[0;32m     19\u001b[0m     pol \u001b[38;5;241m=\u001b[39m \u001b[38;5;28msum\u001b[39m(((\u001b[38;5;241m-\u001b[39m\u001b[38;5;241m1\u001b[39m)\u001b[38;5;241m*\u001b[39m\u001b[38;5;241m*\u001b[39m(n\u001b[38;5;241m+\u001b[39m\u001b[38;5;241m1\u001b[39m)\u001b[38;5;241m*\u001b[39mnp\u001b[38;5;241m.\u001b[39mmath\u001b[38;5;241m.\u001b[39mfactorial(n\u001b[38;5;241m-\u001b[39m\u001b[38;5;241m1\u001b[39m))\u001b[38;5;241m/\u001b[39m(np\u001b[38;5;241m.\u001b[39mmath\u001b[38;5;241m.\u001b[39mfactorial(n)) \u001b[38;5;28;01mfor\u001b[39;00m n \u001b[38;5;129;01min\u001b[39;00m \u001b[38;5;28mrange\u001b[39m(\u001b[38;5;241m0\u001b[39m,\u001b[38;5;241m10\u001b[39m))\n\u001b[0;32m     20\u001b[0m     \u001b[38;5;28;01mreturn\u001b[39;00m (np\u001b[38;5;241m.\u001b[39mlog10(x) \u001b[38;5;241m-\u001b[39m pol)\u001b[38;5;241m/\u001b[39mnp\u001b[38;5;241m.\u001b[39msqrt(x\u001b[38;5;241m+\u001b[39m\u001b[38;5;241m5\u001b[39m\u001b[38;5;241m*\u001b[39mx\u001b[38;5;241m*\u001b[39m\u001b[38;5;241m*\u001b[39m\u001b[38;5;241m3\u001b[39m)\n\u001b[1;32m---> 22\u001b[0m \u001b[43mgauss_quad_5\u001b[49m\u001b[43m(\u001b[49m\u001b[43mfp\u001b[49m\u001b[43m,\u001b[49m\u001b[43m \u001b[49m\u001b[38;5;241;43m0\u001b[39;49m\u001b[43m,\u001b[49m\u001b[43m \u001b[49m\u001b[38;5;241;43m999999999999999999999\u001b[39;49m\u001b[43m)\u001b[49m \u001b[38;5;241m+\u001b[39m poly\n",
      "Input \u001b[1;32mIn [10]\u001b[0m, in \u001b[0;36mgauss_quad_5\u001b[1;34m(f, a, b)\u001b[0m\n\u001b[0;32m      9\u001b[0m c \u001b[38;5;241m=\u001b[39m [\u001b[38;5;241m0.2369268850\u001b[39m, \u001b[38;5;241m0.4786286705\u001b[39m, \u001b[38;5;241m0.5688888889\u001b[39m, \u001b[38;5;241m0.4786286705\u001b[39m, \u001b[38;5;241m0.2369268850\u001b[39m]\n\u001b[0;32m     10\u001b[0m r \u001b[38;5;241m=\u001b[39m [\u001b[38;5;241m0.9061798459\u001b[39m, \u001b[38;5;241m0.5384693101\u001b[39m, \u001b[38;5;241m0.0000000000\u001b[39m, \u001b[38;5;241m-\u001b[39m\u001b[38;5;241m0.5384693101\u001b[39m, \u001b[38;5;241m-\u001b[39m\u001b[38;5;241m0.9061798459\u001b[39m]\n\u001b[1;32m---> 12\u001b[0m \u001b[38;5;28;01mreturn\u001b[39;00m ((b\u001b[38;5;241m-\u001b[39ma)\u001b[38;5;241m/\u001b[39m\u001b[38;5;241m2\u001b[39m)\u001b[38;5;241m*\u001b[39m\u001b[38;5;28;43msum\u001b[39;49m\u001b[43m(\u001b[49m\u001b[43mc\u001b[49m\u001b[43m[\u001b[49m\u001b[43mi\u001b[49m\u001b[43m]\u001b[49m\u001b[38;5;241;43m*\u001b[39;49m\u001b[43mf\u001b[49m\u001b[43m(\u001b[49m\u001b[43mx\u001b[49m\u001b[43m(\u001b[49m\u001b[43mr\u001b[49m\u001b[43m[\u001b[49m\u001b[43mi\u001b[49m\u001b[43m]\u001b[49m\u001b[43m)\u001b[49m\u001b[43m)\u001b[49m\u001b[43m \u001b[49m\u001b[38;5;28;43;01mfor\u001b[39;49;00m\u001b[43m \u001b[49m\u001b[43mi\u001b[49m\u001b[43m \u001b[49m\u001b[38;5;129;43;01min\u001b[39;49;00m\u001b[43m \u001b[49m\u001b[38;5;28;43mrange\u001b[39;49m\u001b[43m(\u001b[49m\u001b[38;5;241;43m5\u001b[39;49m\u001b[43m)\u001b[49m\u001b[43m)\u001b[49m\n",
      "Input \u001b[1;32mIn [10]\u001b[0m, in \u001b[0;36m<genexpr>\u001b[1;34m(.0)\u001b[0m\n\u001b[0;32m      9\u001b[0m c \u001b[38;5;241m=\u001b[39m [\u001b[38;5;241m0.2369268850\u001b[39m, \u001b[38;5;241m0.4786286705\u001b[39m, \u001b[38;5;241m0.5688888889\u001b[39m, \u001b[38;5;241m0.4786286705\u001b[39m, \u001b[38;5;241m0.2369268850\u001b[39m]\n\u001b[0;32m     10\u001b[0m r \u001b[38;5;241m=\u001b[39m [\u001b[38;5;241m0.9061798459\u001b[39m, \u001b[38;5;241m0.5384693101\u001b[39m, \u001b[38;5;241m0.0000000000\u001b[39m, \u001b[38;5;241m-\u001b[39m\u001b[38;5;241m0.5384693101\u001b[39m, \u001b[38;5;241m-\u001b[39m\u001b[38;5;241m0.9061798459\u001b[39m]\n\u001b[1;32m---> 12\u001b[0m \u001b[38;5;28;01mreturn\u001b[39;00m ((b\u001b[38;5;241m-\u001b[39ma)\u001b[38;5;241m/\u001b[39m\u001b[38;5;241m2\u001b[39m)\u001b[38;5;241m*\u001b[39m\u001b[38;5;28msum\u001b[39m(c[i]\u001b[38;5;241m*\u001b[39m\u001b[43mf\u001b[49m\u001b[43m(\u001b[49m\u001b[43mx\u001b[49m\u001b[43m(\u001b[49m\u001b[43mr\u001b[49m\u001b[43m[\u001b[49m\u001b[43mi\u001b[49m\u001b[43m]\u001b[49m\u001b[43m)\u001b[49m\u001b[43m)\u001b[49m \u001b[38;5;28;01mfor\u001b[39;00m i \u001b[38;5;129;01min\u001b[39;00m \u001b[38;5;28mrange\u001b[39m(\u001b[38;5;241m5\u001b[39m))\n",
      "Input \u001b[1;32mIn [10]\u001b[0m, in \u001b[0;36mfp\u001b[1;34m(x)\u001b[0m\n\u001b[0;32m     17\u001b[0m \u001b[38;5;28;01mif\u001b[39;00m x \u001b[38;5;241m==\u001b[39m \u001b[38;5;241m0\u001b[39m:\n\u001b[0;32m     18\u001b[0m     \u001b[38;5;28;01mreturn\u001b[39;00m \u001b[38;5;241m0\u001b[39m\n\u001b[1;32m---> 19\u001b[0m pol \u001b[38;5;241m=\u001b[39m \u001b[38;5;28;43msum\u001b[39;49m\u001b[43m(\u001b[49m\u001b[43m(\u001b[49m\u001b[43m(\u001b[49m\u001b[38;5;241;43m-\u001b[39;49m\u001b[38;5;241;43m1\u001b[39;49m\u001b[43m)\u001b[49m\u001b[38;5;241;43m*\u001b[39;49m\u001b[38;5;241;43m*\u001b[39;49m\u001b[43m(\u001b[49m\u001b[43mn\u001b[49m\u001b[38;5;241;43m+\u001b[39;49m\u001b[38;5;241;43m1\u001b[39;49m\u001b[43m)\u001b[49m\u001b[38;5;241;43m*\u001b[39;49m\u001b[43mnp\u001b[49m\u001b[38;5;241;43m.\u001b[39;49m\u001b[43mmath\u001b[49m\u001b[38;5;241;43m.\u001b[39;49m\u001b[43mfactorial\u001b[49m\u001b[43m(\u001b[49m\u001b[43mn\u001b[49m\u001b[38;5;241;43m-\u001b[39;49m\u001b[38;5;241;43m1\u001b[39;49m\u001b[43m)\u001b[49m\u001b[43m)\u001b[49m\u001b[38;5;241;43m/\u001b[39;49m\u001b[43m(\u001b[49m\u001b[43mnp\u001b[49m\u001b[38;5;241;43m.\u001b[39;49m\u001b[43mmath\u001b[49m\u001b[38;5;241;43m.\u001b[39;49m\u001b[43mfactorial\u001b[49m\u001b[43m(\u001b[49m\u001b[43mn\u001b[49m\u001b[43m)\u001b[49m\u001b[43m)\u001b[49m\u001b[43m \u001b[49m\u001b[38;5;28;43;01mfor\u001b[39;49;00m\u001b[43m \u001b[49m\u001b[43mn\u001b[49m\u001b[43m \u001b[49m\u001b[38;5;129;43;01min\u001b[39;49;00m\u001b[43m \u001b[49m\u001b[38;5;28;43mrange\u001b[39;49m\u001b[43m(\u001b[49m\u001b[38;5;241;43m0\u001b[39;49m\u001b[43m,\u001b[49m\u001b[38;5;241;43m10\u001b[39;49m\u001b[43m)\u001b[49m\u001b[43m)\u001b[49m\n\u001b[0;32m     20\u001b[0m \u001b[38;5;28;01mreturn\u001b[39;00m (np\u001b[38;5;241m.\u001b[39mlog10(x) \u001b[38;5;241m-\u001b[39m pol)\u001b[38;5;241m/\u001b[39mnp\u001b[38;5;241m.\u001b[39msqrt(x\u001b[38;5;241m+\u001b[39m\u001b[38;5;241m5\u001b[39m\u001b[38;5;241m*\u001b[39mx\u001b[38;5;241m*\u001b[39m\u001b[38;5;241m*\u001b[39m\u001b[38;5;241m3\u001b[39m)\n",
      "Input \u001b[1;32mIn [10]\u001b[0m, in \u001b[0;36m<genexpr>\u001b[1;34m(.0)\u001b[0m\n\u001b[0;32m     17\u001b[0m \u001b[38;5;28;01mif\u001b[39;00m x \u001b[38;5;241m==\u001b[39m \u001b[38;5;241m0\u001b[39m:\n\u001b[0;32m     18\u001b[0m     \u001b[38;5;28;01mreturn\u001b[39;00m \u001b[38;5;241m0\u001b[39m\n\u001b[1;32m---> 19\u001b[0m pol \u001b[38;5;241m=\u001b[39m \u001b[38;5;28msum\u001b[39m(((\u001b[38;5;241m-\u001b[39m\u001b[38;5;241m1\u001b[39m)\u001b[38;5;241m*\u001b[39m\u001b[38;5;241m*\u001b[39m(n\u001b[38;5;241m+\u001b[39m\u001b[38;5;241m1\u001b[39m)\u001b[38;5;241m*\u001b[39m\u001b[43mnp\u001b[49m\u001b[38;5;241;43m.\u001b[39;49m\u001b[43mmath\u001b[49m\u001b[38;5;241;43m.\u001b[39;49m\u001b[43mfactorial\u001b[49m\u001b[43m(\u001b[49m\u001b[43mn\u001b[49m\u001b[38;5;241;43m-\u001b[39;49m\u001b[38;5;241;43m1\u001b[39;49m\u001b[43m)\u001b[49m)\u001b[38;5;241m/\u001b[39m(np\u001b[38;5;241m.\u001b[39mmath\u001b[38;5;241m.\u001b[39mfactorial(n)) \u001b[38;5;28;01mfor\u001b[39;00m n \u001b[38;5;129;01min\u001b[39;00m \u001b[38;5;28mrange\u001b[39m(\u001b[38;5;241m0\u001b[39m,\u001b[38;5;241m10\u001b[39m))\n\u001b[0;32m     20\u001b[0m \u001b[38;5;28;01mreturn\u001b[39;00m (np\u001b[38;5;241m.\u001b[39mlog10(x) \u001b[38;5;241m-\u001b[39m pol)\u001b[38;5;241m/\u001b[39mnp\u001b[38;5;241m.\u001b[39msqrt(x\u001b[38;5;241m+\u001b[39m\u001b[38;5;241m5\u001b[39m\u001b[38;5;241m*\u001b[39mx\u001b[38;5;241m*\u001b[39m\u001b[38;5;241m*\u001b[39m\u001b[38;5;241m3\u001b[39m)\n",
      "\u001b[1;31mValueError\u001b[0m: factorial() not defined for negative values"
     ]
    }
   ],
   "source": [
    "import numpy as np\n",
    "import matplotlib.pyplot as plt\n",
    "\n",
    "def gauss_quad_5(f, a, b):\n",
    "    \n",
    "    def x(t):\n",
    "        return ((b - a)*t + a + b)/2\n",
    "    \n",
    "    c = [0.2369268850, 0.4786286705, 0.5688888889, 0.4786286705, 0.2369268850]\n",
    "    r = [0.9061798459, 0.5384693101, 0.0000000000, -0.5384693101, -0.9061798459]\n",
    "    \n",
    "    return ((b-a)/2)*sum(c[i]*f(x(r[i])) for i in range(5))\n",
    "\n",
    "poly = sum(1/((n + 0.5)*np.math.factorial(n)) for n in range(0,10))\n",
    "\n",
    "def fp(x):\n",
    "    if x == 0:\n",
    "        return 0\n",
    "    pol = sum(((-1)**(n+1)*np.math.factorial(n-1))/(np.math.factorial(n)) for n in range(0,10))\n",
    "    return (np.log10(x) - pol)/np.sqrt(x+5*x**3)\n",
    "\n",
    "gauss_quad_5(fp, 0, 999999999999999999999) + poly"
   ]
  },
  {
   "cell_type": "code",
   "execution_count": null,
   "id": "c74fcfa8",
   "metadata": {},
   "outputs": [],
   "source": []
  }
 ],
 "metadata": {
  "kernelspec": {
   "display_name": "Python 3 (ipykernel)",
   "language": "python",
   "name": "python3"
  },
  "language_info": {
   "codemirror_mode": {
    "name": "ipython",
    "version": 3
   },
   "file_extension": ".py",
   "mimetype": "text/x-python",
   "name": "python",
   "nbconvert_exporter": "python",
   "pygments_lexer": "ipython3",
   "version": "3.9.12"
  }
 },
 "nbformat": 4,
 "nbformat_minor": 5
}
