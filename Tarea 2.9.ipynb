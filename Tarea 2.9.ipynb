{
 "cells": [
  {
   "cell_type": "markdown",
   "id": "81061ad6",
   "metadata": {},
   "source": [
    "# Tarea 2.9 "
   ]
  },
  {
   "cell_type": "code",
   "execution_count": 58,
   "id": "98f3f7ba",
   "metadata": {},
   "outputs": [
    {
     "name": "stdout",
     "output_type": "stream",
     "text": [
      "El error absoluto de la Sumatoria es: 1.8338433261877964\n",
      "El error absoluto de el uno sobre Sumatoria es: 0.7242546930009145\n",
      "El error relativo de la Sumatoria es: 272.16648133870774\n",
      "El error relativo de el uno sobre Sumatoria es: 107.4889269831325\n",
      "Uno sobre Sumatoria es la mejor aproximacion de e**(-5)\n"
     ]
    }
   ],
   "source": [
    "import numpy as np\n",
    "import scipy.special as sp #Importamos scipy.special con el fin de usar factoriales en arrays \n",
    "Valor_real= np.exp(-5) #Este es el valor que deberiamos obtener en 64 bits\n",
    "Indices_sumatoria = np.arange(0,10) #Son las variables que van desde 0 a 9 de la sumatoria.\n",
    "Sumatoria = sum((-5)**Indices_sumatoria/(sp.factorial(Indices_sumatoria))) #Aproximacion de e**(-5)\n",
    "Uno_sobre_Sumatoria = sum(1/((-5)**Indices_sumatoria/(sp.factorial(Indices_sumatoria)))) #Como el nombre indica es un uno sobre la sumatoria anterior (Sumatoria).\n",
    "\n",
    "#Ahora calcumos errores relativos y absolutos\n",
    "Error_absoluto_Sumatoria= np.abs(Valor_real-Sumatoria)\n",
    "Error_relativo_Sumatoria = np.abs(Valor_real-Sumatoria)/Valor_real\n",
    "\n",
    "Error_absoluto_Uno_sobre_Sumatoria = np.abs(Valor_real-Uno_sobre_Sumatoria)\n",
    "Error_relativo_Uno_sobre_Sumatoria = np.abs(Valor_real-Uno_sobre_Sumatoria)/Valor_real\n",
    "\n",
    "#Ahora se imprimen los errores absolutos y relativos de ambas aproximaciones\n",
    "print('El error absoluto de la Sumatoria es:', Error_absoluto_Sumatoria, )\n",
    "print('El error absoluto de el uno sobre Sumatoria es:', Error_absoluto_Uno_sobre_Sumatoria)\n",
    "print('El error relativo de la Sumatoria es:', Error_relativo_Sumatoria )\n",
    "print('El error relativo de el uno sobre Sumatoria es:', Error_relativo_Uno_sobre_Sumatoria )\n",
    "\n",
    "#Como el error tanto el absoluto y como el relativo de la Sumatoria es mayor que los del uno sobre Sumatoria. El uno sobre sumatoria es mejor aproximacion.\n",
    "print('Uno sobre Sumatoria es la mejor aproximacion de e**(-5)')"
   ]
  },
  {
   "cell_type": "markdown",
   "id": "b9302cce",
   "metadata": {},
   "source": [
    "# Calificación: 5.5\n",
    "\n",
    "Faltó explicar el por qué pasa esto. No se hizo todo lo que se pedía en la tarea.\n",
    "Lo presentado está bien."
   ]
  },
  {
   "cell_type": "markdown",
   "id": "b8c8501b",
   "metadata": {},
   "source": []
  }
 ],
 "metadata": {
  "kernelspec": {
   "display_name": "Python 3.8.5 ('base')",
   "language": "python",
   "name": "python3"
  },
  "language_info": {
   "codemirror_mode": {
    "name": "ipython",
    "version": 3
   },
   "file_extension": ".py",
   "mimetype": "text/x-python",
   "name": "python",
   "nbconvert_exporter": "python",
   "pygments_lexer": "ipython3",
   "version": "3.8.5"
  },
  "vscode": {
   "interpreter": {
    "hash": "717166dca5ba27c291ef89c0d672051d570f7fc5e24fe5207b8bf9e4bb58e673"
   }
  }
 },
 "nbformat": 4,
 "nbformat_minor": 5
}
