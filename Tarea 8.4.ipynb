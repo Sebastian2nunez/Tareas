{
 "cells": [
  {
   "cell_type": "code",
   "execution_count": 7,
   "metadata": {},
   "outputs": [],
   "source": [
    "import numpy as np\n",
    "import matplotlib.pyplot as plt\n",
    "\n",
    "\n",
    "#Se utiliza funciones vistas en clases \n",
    "\n",
    "def spline_coefs(puntos):\n",
    "    \n",
    "    n = len(puntos) - 1\n",
    "    \n",
    "    h = np.zeros(n)\n",
    "    for i in range(n):\n",
    "        h[i] = puntos[i + 1][0] - puntos[i][0]\n",
    "    \n",
    "    a = puntos[:,1]\n",
    "    alpha = np.zeros(n - 1)\n",
    "    for i in range(1, n):\n",
    "        alpha[i-1] = (3/h[i])*(a[i+1] - a[i]) - (3/h[i-1])*(a[i] - a[i-1])\n",
    "        \n",
    "        \n",
    "    # Se resuelve un sistema de ecuaciones:\n",
    "    l = np.ones(n + 1)\n",
    "    mu = np.zeros(n)\n",
    "    z = np.zeros(n + 1)\n",
    "    for i in range(1, n):\n",
    "        l[i] = 2*(puntos[i+1][0] - puntos[i-1][0]) - h[i-1]*mu[i-1]\n",
    "        mu[i] = h[i]/l[i]\n",
    "        z[i] = (alpha[i-1] - h[i-1]*z[i-1])/l[i]\n",
    "    b = np.zeros(n)\n",
    "    c = np.zeros(n+1)\n",
    "    d = np.zeros(n)\n",
    "    for j in range(n-1,-1,-1):\n",
    "        c[j] = z[j] - mu[j]*c[j+1]\n",
    "        b[j] = (a[j+1] - a[j])/h[j] - h[j]*(c[j+1] + 2*c[j])/3\n",
    "        d[j] = (c[j+1] - c[j])/(3*h[j])\n",
    "        \n",
    "    return a, b, c, d\n",
    "\n",
    "def spline_eval(x, coefs, puntos):\n",
    "\n",
    "    if x >= puntos[-1,0]:\n",
    "        return puntos[-1,1]\n",
    "    elif x <= puntos[0,0]:\n",
    "        return puntos[0,1]\n",
    "    \n",
    "    i = find_ind(x, puntos)\n",
    "    a, b, c, d = coefs\n",
    "    return (a[i] + b[i]*(x - puntos[i][0]) + \\\n",
    "            c[i]*(x - puntos[i][0])**2 + d[i]*(x - puntos[i][0])**3)"
   ]
  },
  {
   "cell_type": "code",
   "execution_count": 13,
   "metadata": {},
   "outputs": [
    {
     "data": {
      "image/png": "[encoded data removed]",
      "text/plain": [
       "<Figure size 432x288 with 1 Axes>"
      ]
     },
     "metadata": {
      "needs_background": "light"
     },
     "output_type": "display_data"
    }
   ],
   "source": [
    "#Para hacer primer spline con 2 puntos\n",
    "mini = 0\n",
    "maxi = 1\n",
    "order = 2\n",
    "xp = np.linspace(mini, maxi, order)\n",
    "puntos = np.array([[xi, np.array(4*xi**3 -3*xi**2+ xi - 5)] for xi in xp])\n",
    "coefs= spline_coefs(puntos)\n",
    "\n",
    "x = np.linspace(mini, maxi, 100)\n",
    "spline = [spline_eval(xi, coefs, puntos) for xi in x]\n",
    "\n",
    "#Para hacer segundo spline con 4 puntos\n",
    "order1=4\n",
    "xp1 = np.linspace(mini, maxi, order1)\n",
    "puntos1 = np.array([[xi, np.array(4*xi**3 -3*xi**2+ xi - 5)] for xi in xp1])\n",
    "coefs1= spline_coefs(puntos1)\n",
    "\n",
    "spline1 = [spline_eval(xi, coefs1, puntos1) for xi in x]\n",
    "exact = [4*xi**3 - 3*xi**2+xi-5 for xi in x]\n",
    "plt.scatter(puntos[:,0], puntos[:,1], color='red')\n",
    "plt.plot(x, exact,label=\"Exacta\")\n",
    "plt.plot(x, spline,label='spline con 2 puntos equisdistantes')\n",
    "plt.plot(x, spline1,label='spline con 4 puntos equisdistantes')\n",
    "plt.legend()\n",
    "plt.show()"
   ]
  },
  {
   "cell_type": "markdown",
   "metadata": {},
   "source": [
    "Se observa que la peor aproximacion es la de 2 puntos equisdistantes, mintras que con 4 puntos equisdistantes se acerca mas pero sigue con bastante diferencia"
   ]
  },
  {
   "cell_type": "markdown",
   "metadata": {},
   "source": [
    "## Calificion: 6.8\n",
    "\n",
    "No exportaste find_ind, por lo que el codigo me arrojo un error."
   ]
  },
  {
   "cell_type": "code",
   "execution_count": 14,
   "metadata": {},
   "outputs": [],
   "source": [
    "def find_ind(x, puntos):\n",
    "    for i in range(len(puntos)):\n",
    "        if x < puntos[i,0] and i != 0:\n",
    "            return i-1\n"
   ]
  },
  {
   "cell_type": "markdown",
   "metadata": {},
   "source": [
    "Tampoco esta definido \"exact\""
   ]
  }
 ],
 "metadata": {
  "kernelspec": {
   "display_name": "Python 3",
   "language": "python",
   "name": "python3"
  },
  "language_info": {
   "codemirror_mode": {
    "name": "ipython",
    "version": 3
   },
   "file_extension": ".py",
   "mimetype": "text/x-python",
   "name": "python",
   "nbconvert_exporter": "python",
   "pygments_lexer": "ipython3",
   "version": "3.8.3"
  },
  "toc": {
   "base_numbering": 1,
   "nav_menu": {},
   "number_sections": true,
   "sideBar": true,
   "skip_h1_title": false,
   "title_cell": "Table of Contents",
   "title_sidebar": "Contents",
   "toc_cell": false,
   "toc_position": {},
   "toc_section_display": true,
   "toc_window_display": false
  }
 },
 "nbformat": 4,
 "nbformat_minor": 5
}
