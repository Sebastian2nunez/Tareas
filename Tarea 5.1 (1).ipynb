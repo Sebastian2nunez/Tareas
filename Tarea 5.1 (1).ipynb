{
 "cells": [
  {
   "cell_type": "markdown",
   "id": "6eae08e8",
   "metadata": {},
   "source": [
    "En el problema de la urna al extraer seis bolas.\n",
    "\n",
    "    ¿Cuál es la probabilidad de que las primeras tres bolas no sean rojas?\n",
    "    ¿Cuál es la probabilidad de sacar dos bolas de cada color?"
   ]
  },
  {
   "cell_type": "code",
   "execution_count": 39,
   "id": "550d3460",
   "metadata": {},
   "outputs": [],
   "source": [
    "#Se define lo basico para calcular una probabilidad\n",
    "def prob(evento, espacio):\n",
    "    ''' \n",
    "    Regresa la probabilidad de que ocurra 'evento'.\n",
    "    Los argumentos deben ser conjuntos.    \n",
    "    '''\n",
    "    return (len(evento & espacio)/len(espacio))"
   ]
  },
  {
   "cell_type": "code",
   "execution_count": 4,
   "id": "f975da5b",
   "metadata": {},
   "outputs": [],
   "source": [
    "#Se crea una funcion que nos indique el numero y color de la bola\n",
    "def unir(color, numero):\n",
    "    return {color + str(n + 1) for n in range(numero)}\n",
    "\n",
    "#La urna utilizada es con 8 blancas, 6 azules y 9 rojas, tal que:\n",
    "urna = list(unir('B', 8) | unir('A', 6) | unir('R', 9))"
   ]
  },
  {
   "cell_type": "code",
   "execution_count": 5,
   "id": "d45d61df",
   "metadata": {},
   "outputs": [],
   "source": [
    "#Sacamos las 3 primeras bolas con el objetivo de que no sean rojas.\n",
    "import itertools\n",
    "muestra = set(itertools.combinations(urna, 3))"
   ]
  },
  {
   "cell_type": "markdown",
   "id": "92d05bda",
   "metadata": {},
   "source": [
    "<span style=\"color: red;\">Ojo, que las 3 primeras entre 6 no sean rojas no es equivalente a que 3 bolas no sean rojas</span>"
   ]
  },
  {
   "cell_type": "code",
   "execution_count": 15,
   "id": "04260a8c",
   "metadata": {},
   "outputs": [
    {
     "name": "stdout",
     "output_type": "stream",
     "text": [
      "La probabilidad de que no salga rojo en las primeras 3 es: 0.20553359683794467 %\n"
     ]
    }
   ],
   "source": [
    "#No se quieren bolas rojas por lo que s.count(R) ==0 para las 3 primeras muestras\n",
    "import random\n",
    "def rojo(evento):\n",
    "    s = [i[0] for i in evento]\n",
    "    return s.count('R') == 0\n",
    "\n",
    "rojos = {e for e in muestra if rojo(e)}\n",
    "x= prob(rojos, muestra)\n",
    "# CUIDADO!!! PARA OBTENER EL PORCENTAJE HAY QUE MULTIPLICAR ESTAS PROBABILIDADES POR 100!!!!\n",
    "print('La probabilidad de que no salga rojo en las primeras 3 es:', x ,'%') "
   ]
  },
  {
   "cell_type": "markdown",
   "id": "61d02e14",
   "metadata": {},
   "source": [
    "Sacar 2 bolas de cada color es tal que."
   ]
  },
  {
   "cell_type": "code",
   "execution_count": 38,
   "id": "1678fc5d",
   "metadata": {},
   "outputs": [
    {
     "name": "stdout",
     "output_type": "stream",
     "text": [
      "La probabilidad de sacar 2 bolas de cada color en 6 extracciones es: 0.1497815685458706 %\n"
     ]
    }
   ],
   "source": [
    "espacio= set(itertools.combinations(urna, 6))\n",
    "\n",
    "def rojo(evento):\n",
    "    s = [i[0] for i in evento]\n",
    "    return s.count('R') == 2\n",
    "\n",
    "def blanco(evento):\n",
    "    s = [i[0] for i in evento]\n",
    "    return s.count('B') == 2\n",
    "\n",
    "def azul(evento):\n",
    "    s = [i[0] for i in evento]\n",
    "    return s.count('A') == 2\n",
    "\n",
    "rojos = {e for e in espacio if rojo(e)}\n",
    "blancos = {e for e in espacio if blanco(e)}\n",
    "azules = {e for e in espacio if azul(e)}\n",
    "# CUIDADO!!! PARA OBTENER EL PORCENTAJE HAY QUE MULTIPLICAR ESTAS PROBABILIDADES POR 100!!!!\n",
    "print('La probabilidad de sacar 2 bolas de cada color en 6 extracciones es:',prob(rojos & blancos & azules, espacio),'%')"
   ]
  },
  {
   "cell_type": "markdown",
   "id": "65e729c1",
   "metadata": {},
   "source": [
    "# Calificación: 5.8"
   ]
  },
  {
   "cell_type": "markdown",
   "id": "236ef1ec",
   "metadata": {},
   "source": [
    "-1 punto por el error marcado en rojo arriba. -0.2 puntos por haber confundido probabilidad normalizada a 1.0 con probabilidad porcentual."
   ]
  },
  {
   "cell_type": "markdown",
   "id": "7e55829b",
   "metadata": {},
   "source": []
  }
 ],
 "metadata": {
  "kernelspec": {
   "display_name": "Python 3",
   "language": "python",
   "name": "python3"
  },
  "language_info": {
   "codemirror_mode": {
    "name": "ipython",
    "version": 3
   },
   "file_extension": ".py",
   "mimetype": "text/x-python",
   "name": "python",
   "nbconvert_exporter": "python",
   "pygments_lexer": "ipython3",
   "version": "3.10.6 (main, Nov  2 2022, 18:53:38) [GCC 11.3.0]"
  },
  "vscode": {
   "interpreter": {
    "hash": "916dbcbb3f70747c44a77c7bcd40155683ae19c65e1c03b4aa3499c5328201f1"
   }
  }
 },
 "nbformat": 4,
 "nbformat_minor": 5
}
