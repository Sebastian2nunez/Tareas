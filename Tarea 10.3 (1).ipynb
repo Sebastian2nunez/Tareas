{
 "cells": [
  {
   "cell_type": "markdown",
   "metadata": {},
   "source": [
    "Tarea 10.3\n",
    "\n",
    "Use un método numérico para calcular la siguiente integral\n",
    "\n",
    "$$\n",
    "\\int_0^\\infty dx\\,\\frac{\\log(x)}{\\sqrt{x + 5x^3}}\n",
    "$$\n",
    "\n",
    "**Pista:** Al aislar la divergencia, escriba $\\log(x)f(x)/x^p$, luego expanda en Taylor $f(x)$ y las integrales resultantes con integrandos del tipo $x^n \\log(x)$ tienen solución analítica."
   ]
  },
  {
   "cell_type": "markdown",
   "metadata": {},
   "source": [
    "El polinomio de taylor es con a=0:\n",
    "    \n",
    "$$\n",
    " P_m=\\frac{a^{-n}(-1)^{1+n}(-1+n)!}{log(10)}*\\frac{(x-a)^n}{n!}  = \\frac{(-1)^{n+1}(n-1)!}{log(10)*n!}\n",
    "$$\n"
   ]
  },
  {
   "cell_type": "code",
   "execution_count": 1,
   "metadata": {},
   "outputs": [
    {
     "data": {
      "text/plain": [
       "0.9253034672952026"
      ]
     },
     "execution_count": 1,
     "metadata": {},
     "output_type": "execute_result"
    }
   ],
   "source": [
    "import numpy as np\n",
    "import matplotlib.pyplot as plt\n",
    "\n",
    "def gauss_quad_5(f, a, b):\n",
    "    \n",
    "    def x(t):\n",
    "        return ((b - a)*t + a + b)/2\n",
    "    \n",
    "    c = [0.2369268850, 0.4786286705, 0.5688888889, 0.4786286705, 0.2369268850]\n",
    "    r = [0.9061798459, 0.5384693101, 0.0000000000, -0.5384693101, -0.9061798459]\n",
    "    \n",
    "    return ((b-a)/2)*sum(c[i]*f(x(r[i])) for i in range(5))\n",
    "\n",
    "poly = sum(1/((n + 0.5)*np.math.factorial(n)) for n in range(1,10))\n",
    "\n",
    "def fp(x):\n",
    "    if x == 0:\n",
    "        return 0\n",
    "    pol = sum(((-1)**(n+1)*np.math.factorial(n-1))/(np.math.factorial(n)) for n in range(1,10))\n",
    "    return (np.log10(x) - pol)/np.sqrt(x+5*x**3)\n",
    "\n",
    "gauss_quad_5(fp, 0, 999999999999999999999) + poly"
   ]
  },
  {
   "cell_type": "markdown",
   "metadata": {},
   "source": [
    "# Calificacion: 3.0"
   ]
  }
 ],
 "metadata": {
  "kernelspec": {
   "display_name": "Python 3",
   "language": "python",
   "name": "python3"
  },
  "language_info": {
   "codemirror_mode": {
    "name": "ipython",
    "version": 3
   },
   "file_extension": ".py",
   "mimetype": "text/x-python",
   "name": "python",
   "nbconvert_exporter": "python",
   "pygments_lexer": "ipython3",
   "version": "3.8.3"
  },
  "toc": {
   "base_numbering": 1,
   "nav_menu": {},
   "number_sections": true,
   "sideBar": true,
   "skip_h1_title": false,
   "title_cell": "Table of Contents",
   "title_sidebar": "Contents",
   "toc_cell": false,
   "toc_position": {},
   "toc_section_display": true,
   "toc_window_display": false
  }
 },
 "nbformat": 4,
 "nbformat_minor": 5
}
