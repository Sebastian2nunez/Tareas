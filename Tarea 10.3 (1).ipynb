{
 "cells": [
  {
   "cell_type": "markdown",
   "id": "b8c5365c",
   "metadata": {},
   "source": [
    "Tarea 10.3\n",
    "\n",
    "Use un método numérico para calcular la siguiente integral\n",
    "\n",
    "$$\n",
    "\\int_0^\\infty dx\\,\\frac{\\log(x)}{\\sqrt{x + 5x^3}}\n",
    "$$\n",
    "\n",
    "**Pista:** Al aislar la divergencia, escriba $\\log(x)f(x)/x^p$, luego expanda en Taylor $f(x)$ y las integrales resultantes con integrandos del tipo $x^n \\log(x)$ tienen solución analítica."
   ]
  },
  {
   "cell_type": "markdown",
   "id": "864f374b",
   "metadata": {},
   "source": [
    "El polinomio de taylor es con a=0:\n",
    "    \n",
    "$$\n",
    " P_m=\\frac{a^{-n}(-1)^{1+n}(-1+n)!}{log(10)}*\\frac{(x-a)^n}{n!}  = \\frac{(-1)^{n+1}(n-1)!}{log(10)*n!}\n",
    "$$\n"
   ]
  },
  {
   "cell_type": "code",
   "execution_count": 12,
   "id": "d6e307da",
   "metadata": {},
   "outputs": [
    {
     "data": {
      "text/plain": [
       "0.9253034672952026"
      ]
     },
     "execution_count": 12,
     "metadata": {},
     "output_type": "execute_result"
    }
   ],
   "source": [
    "import numpy as np\n",
    "import matplotlib.pyplot as plt\n",
    "\n",
    "def gauss_quad_5(f, a, b):\n",
    "    \n",
    "    def x(t):\n",
    "        return ((b - a)*t + a + b)/2\n",
    "    \n",
    "    c = [0.2369268850, 0.4786286705, 0.5688888889, 0.4786286705, 0.2369268850]\n",
    "    r = [0.9061798459, 0.5384693101, 0.0000000000, -0.5384693101, -0.9061798459]\n",
    "    \n",
    "    return ((b-a)/2)*sum(c[i]*f(x(r[i])) for i in range(5))\n",
    "\n",
    "poly = sum(1/((n + 0.5)*np.math.factorial(n)) for n in range(1,10))\n",
    "\n",
    "def fp(x):\n",
    "    if x == 0:\n",
    "        return 0\n",
    "    pol = sum(((-1)**(n+1)*np.math.factorial(n-1))/(np.math.factorial(n)) for n in range(1,10))\n",
    "    return (np.log10(x) - pol)/np.sqrt(x+5*x**3)\n",
    "\n",
    "gauss_quad_5(fp, 0, 999999999999999999999) + poly"
   ]
  },
  {
   "cell_type": "code",
   "execution_count": null,
   "id": "12b1695c",
   "metadata": {},
   "outputs": [],
   "source": []
  }
 ],
 "metadata": {
  "kernelspec": {
   "display_name": "Python 3 (ipykernel)",
   "language": "python",
   "name": "python3"
  },
  "language_info": {
   "codemirror_mode": {
    "name": "ipython",
    "version": 3
   },
   "file_extension": ".py",
   "mimetype": "text/x-python",
   "name": "python",
   "nbconvert_exporter": "python",
   "pygments_lexer": "ipython3",
   "version": "3.9.12"
  }
 },
 "nbformat": 4,
 "nbformat_minor": 5
}
